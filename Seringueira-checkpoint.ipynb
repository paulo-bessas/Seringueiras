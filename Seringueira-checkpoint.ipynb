{
 "cells": [
  {
   "cell_type": "code",
   "execution_count": 1,
   "id": "7e05ab16",
   "metadata": {},
   "outputs": [],
   "source": [
    "# Carregando os pacotes\n",
    "\n",
    "import pandas as pd\n",
    "import seaborn as sns\n",
    "from matplotlib import pyplot as plt\n",
    "%matplotlib inline\n",
    "\n",
    "\n"
   ]
  },
  {
   "cell_type": "code",
   "execution_count": 2,
   "id": "25c5acf7",
   "metadata": {},
   "outputs": [
    {
     "data": {
      "text/html": [
       "<div>\n",
       "<style scoped>\n",
       "    .dataframe tbody tr th:only-of-type {\n",
       "        vertical-align: middle;\n",
       "    }\n",
       "\n",
       "    .dataframe tbody tr th {\n",
       "        vertical-align: top;\n",
       "    }\n",
       "\n",
       "    .dataframe thead th {\n",
       "        text-align: right;\n",
       "    }\n",
       "</style>\n",
       "<table border=\"1\" class=\"dataframe\">\n",
       "  <thead>\n",
       "    <tr style=\"text-align: right;\">\n",
       "      <th></th>\n",
       "      <th>Local</th>\n",
       "      <th>Altura</th>\n",
       "      <th>Producao</th>\n",
       "    </tr>\n",
       "  </thead>\n",
       "  <tbody>\n",
       "    <tr>\n",
       "      <th>0</th>\n",
       "      <td>L1</td>\n",
       "      <td>29.4</td>\n",
       "      <td>788.88</td>\n",
       "    </tr>\n",
       "    <tr>\n",
       "      <th>1</th>\n",
       "      <td>L1</td>\n",
       "      <td>29.2</td>\n",
       "      <td>797.94</td>\n",
       "    </tr>\n",
       "    <tr>\n",
       "      <th>2</th>\n",
       "      <td>L1</td>\n",
       "      <td>30.2</td>\n",
       "      <td>728.16</td>\n",
       "    </tr>\n",
       "    <tr>\n",
       "      <th>3</th>\n",
       "      <td>L1</td>\n",
       "      <td>32.5</td>\n",
       "      <td>781.13</td>\n",
       "    </tr>\n",
       "    <tr>\n",
       "      <th>4</th>\n",
       "      <td>L1</td>\n",
       "      <td>32.2</td>\n",
       "      <td>801.58</td>\n",
       "    </tr>\n",
       "  </tbody>\n",
       "</table>\n",
       "</div>"
      ],
      "text/plain": [
       "  Local  Altura  Producao\n",
       "0    L1    29.4    788.88\n",
       "1    L1    29.2    797.94\n",
       "2    L1    30.2    728.16\n",
       "3    L1    32.5    781.13\n",
       "4    L1    32.2    801.58"
      ]
     },
     "execution_count": 2,
     "metadata": {},
     "output_type": "execute_result"
    }
   ],
   "source": [
    "# Carregando o banco de dados Seringueira \n",
    "\n",
    "ser = pd.read_csv(r\"D:\\Curso Python\\Seringueira.csv\")\n",
    "ser.head()"
   ]
  },
  {
   "cell_type": "code",
   "execution_count": 3,
   "id": "df3c766e",
   "metadata": {},
   "outputs": [
    {
     "data": {
      "text/plain": [
       "(45, 3)"
      ]
     },
     "execution_count": 3,
     "metadata": {},
     "output_type": "execute_result"
    }
   ],
   "source": [
    "# Verificando as dimensões da tabela\n",
    "ser.shape"
   ]
  },
  {
   "cell_type": "code",
   "execution_count": 4,
   "id": "d2d08440",
   "metadata": {},
   "outputs": [
    {
     "data": {
      "text/html": [
       "<div>\n",
       "<style scoped>\n",
       "    .dataframe tbody tr th:only-of-type {\n",
       "        vertical-align: middle;\n",
       "    }\n",
       "\n",
       "    .dataframe tbody tr th {\n",
       "        vertical-align: top;\n",
       "    }\n",
       "\n",
       "    .dataframe thead th {\n",
       "        text-align: right;\n",
       "    }\n",
       "</style>\n",
       "<table border=\"1\" class=\"dataframe\">\n",
       "  <thead>\n",
       "    <tr style=\"text-align: right;\">\n",
       "      <th></th>\n",
       "      <th>Altura</th>\n",
       "      <th>Producao</th>\n",
       "    </tr>\n",
       "  </thead>\n",
       "  <tbody>\n",
       "    <tr>\n",
       "      <th>count</th>\n",
       "      <td>45.000000</td>\n",
       "      <td>45.000000</td>\n",
       "    </tr>\n",
       "    <tr>\n",
       "      <th>mean</th>\n",
       "      <td>30.524444</td>\n",
       "      <td>783.808000</td>\n",
       "    </tr>\n",
       "    <tr>\n",
       "      <th>std</th>\n",
       "      <td>1.240080</td>\n",
       "      <td>45.145878</td>\n",
       "    </tr>\n",
       "    <tr>\n",
       "      <th>min</th>\n",
       "      <td>26.500000</td>\n",
       "      <td>687.990000</td>\n",
       "    </tr>\n",
       "    <tr>\n",
       "      <th>25%</th>\n",
       "      <td>29.900000</td>\n",
       "      <td>755.040000</td>\n",
       "    </tr>\n",
       "    <tr>\n",
       "      <th>50%</th>\n",
       "      <td>30.200000</td>\n",
       "      <td>788.880000</td>\n",
       "    </tr>\n",
       "    <tr>\n",
       "      <th>75%</th>\n",
       "      <td>31.600000</td>\n",
       "      <td>815.170000</td>\n",
       "    </tr>\n",
       "    <tr>\n",
       "      <th>max</th>\n",
       "      <td>32.500000</td>\n",
       "      <td>862.140000</td>\n",
       "    </tr>\n",
       "  </tbody>\n",
       "</table>\n",
       "</div>"
      ],
      "text/plain": [
       "          Altura    Producao\n",
       "count  45.000000   45.000000\n",
       "mean   30.524444  783.808000\n",
       "std     1.240080   45.145878\n",
       "min    26.500000  687.990000\n",
       "25%    29.900000  755.040000\n",
       "50%    30.200000  788.880000\n",
       "75%    31.600000  815.170000\n",
       "max    32.500000  862.140000"
      ]
     },
     "execution_count": 4,
     "metadata": {},
     "output_type": "execute_result"
    }
   ],
   "source": [
    "# Resumo descritivo\n",
    "ser.describe()"
   ]
  },
  {
   "cell_type": "code",
   "execution_count": 5,
   "id": "8f8378bd",
   "metadata": {},
   "outputs": [
    {
     "data": {
      "text/plain": [
       "array([[<AxesSubplot:title={'center':'Altura'}>,\n",
       "        <AxesSubplot:title={'center':'Producao'}>]], dtype=object)"
      ]
     },
     "execution_count": 5,
     "metadata": {},
     "output_type": "execute_result"
    },
    {
     "data": {
      "image/png": "[encoded data removed]",
      "text/plain": [
       "<Figure size 648x648 with 2 Axes>"
      ]
     },
     "metadata": {
      "needs_background": "light"
     },
     "output_type": "display_data"
    }
   ],
   "source": [
    "# Histograma da Altura e da Produção\n",
    "ser.hist(figsize=(9,9),color=\"c\")"
   ]
  },
  {
   "cell_type": "code",
   "execution_count": 6,
   "id": "89e9aa22",
   "metadata": {},
   "outputs": [
    {
     "data": {
      "image/png": "[encoded data removed]",
      "text/plain": [
       "<Figure size 576x576 with 1 Axes>"
      ]
     },
     "metadata": {
      "needs_background": "light"
     },
     "output_type": "display_data"
    }
   ],
   "source": [
    "# Há correlação entre Altura e Produção?\n",
    "plt.figure(figsize=(8, 8))\n",
    "plt.scatter(ser[\"Altura\"],ser[\"Producao\"],color=\"r\")\n",
    "plt.title(\"Altura x Produção\",fontsize=16,color='b')\n",
    "plt.xlabel(\"Altura\",fontsize=14)\n",
    "plt.ylabel(\"Produção\",fontsize=14)\n",
    "plt.show()"
   ]
  },
  {
   "cell_type": "code",
   "execution_count": 7,
   "id": "47def746",
   "metadata": {},
   "outputs": [
    {
     "data": {
      "text/plain": [
       "array(['L1', 'L2', 'L3'], dtype=object)"
      ]
     },
     "execution_count": 7,
     "metadata": {},
     "output_type": "execute_result"
    }
   ],
   "source": [
    "# Verificando quais locais diferentes existem\n",
    "ser[\"Local\"].unique()"
   ]
  },
  {
   "cell_type": "code",
   "execution_count": 8,
   "id": "cd365f35",
   "metadata": {},
   "outputs": [
    {
     "data": {
      "text/plain": [
       "Text(0.5, 1.0, 'Contagem dos locais de produção')"
      ]
     },
     "execution_count": 8,
     "metadata": {},
     "output_type": "execute_result"
    },
    {
     "data": {
      "image/png": "[encoded data removed]",
      "text/plain": [
       "<Figure size 561.6x432 with 1 Axes>"
      ]
     },
     "metadata": {},
     "output_type": "display_data"
    }
   ],
   "source": [
    "# Quantos locais de produção existem para cada tipo?\n",
    "sns.set_style(\"white\")\n",
    "g = sns.catplot(x=\"Local\", data=ser, kind=\"count\", palette=\"BuPu\", height=6, aspect=1.3)\n",
    "g.ax.xaxis.set_label_text(\"Local\",fontdict= {'size':16})\n",
    "g.ax.yaxis.set_label_text(\"Frequência\", fontdict= {'size':16})\n",
    "g.ax.set_title(\"Contagem dos locais de produção\",fontdict= {'size':18},color='r')\n"
   ]
  },
  {
   "cell_type": "code",
   "execution_count": 9,
   "id": "b9602786",
   "metadata": {},
   "outputs": [
    {
     "data": {
      "text/plain": [
       "Text(0.5, 1.0, 'Produção por tipo de local')"
      ]
     },
     "execution_count": 9,
     "metadata": {},
     "output_type": "execute_result"
    },
    {
     "data": {
      "image/png": "[encoded data removed]",
      "text/plain": [
       "<Figure size 561.6x432 with 1 Axes>"
      ]
     },
     "metadata": {},
     "output_type": "display_data"
    }
   ],
   "source": [
    "# Qual a distribuição da produção para cada tipo de local?\n",
    "box = sns.catplot(x=\"Local\", y=\"Producao\",data=ser, kind=\"box\",height=6, aspect=1.3)\n",
    "box.ax.xaxis.set_label_text(\"Local\",fontdict= {'size':16})\n",
    "box.ax.yaxis.set_label_text(\"Produção\", fontdict= {'size':16})\n",
    "box.ax.set_title(\"Produção por tipo de local\",fontdict= {'size':18},color='r')"
   ]
  }
 ],
 "metadata": {
  "kernelspec": {
   "display_name": "Python 3",
   "language": "python",
   "name": "python3"
  },
  "language_info": {
   "codemirror_mode": {
    "name": "ipython",
    "version": 3
   },
   "file_extension": ".py",
   "mimetype": "text/x-python",
   "name": "python",
   "nbconvert_exporter": "python",
   "pygments_lexer": "ipython3",
   "version": "3.8.8"
  }
 },
 "nbformat": 4,
 "nbformat_minor": 5
}
